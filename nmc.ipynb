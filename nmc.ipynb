{
 "cells": [
  {
   "attachments": {},
   "cell_type": "markdown",
   "metadata": {},
   "source": [
    "Question 1"
   ]
  },
  {
   "cell_type": "code",
   "execution_count": null,
   "metadata": {},
   "outputs": [],
   "source": [
    "import numpy as np\n",
    "import matplotlib.pyplot as plt\n",
    "import pandas as pd\n",
    "from sklearn import preprocessing\n",
    "from sklearn.preprocessing import StandardScaler\n",
    "from sklearn.metrics import confusion_matrix, ConfusionMatrixDisplay"
   ]
  },
  {
   "cell_type": "code",
   "execution_count": null,
   "metadata": {},
   "outputs": [],
   "source": [
    "df_train = pd.read_csv('Dry_Bean_train.csv') \n",
    "df_x_train = df_train.drop(\"Class\", axis=1) \n",
    "df_y_train = df_train['Class']\n",
    "x_train = df_x_train.to_numpy()\n",
    "\n",
    "df_test = pd.read_csv('Dry_Bean_test.csv') \n",
    "df_x_test = df_test.drop(\"Class\", axis=1)\n",
    "df_y_test = df_test['Class']\n",
    "x_test = df_x_test.to_numpy()\n",
    "\n",
    "encoder = preprocessing.LabelEncoder()\n",
    "y_train_enc = encoder.fit_transform(df_y_train)\n",
    "y_test_enc = encoder.fit_transform(df_y_test)"
   ]
  },
  {
   "cell_type": "code",
   "execution_count": null,
   "metadata": {},
   "outputs": [],
   "source": [
    "def train(X, y, epochs=100, lr=1):\n",
    "    d , c = x_train.shape[1] , max(y_train_enc)+1\n",
    "    w = np.ones((c, d+1))\n",
    "    w_opt = np.ones((c, d+1))\n",
    "    num_samples = X.shape[0]\n",
    "    itr = 0\n",
    "    J_min = 100000000\n",
    "    for epoch in range(epochs):\n",
    "        temp = np.c_[X,y]\n",
    "        np.random.shuffle(temp)\n",
    "        X = temp[:, :17]\n",
    "        y = temp[:, -1]\n",
    "        for i in range(num_samples):\n",
    "            x = X[i]\n",
    "            true_label = y[i]\n",
    "            scores = np.dot(w, x.T)\n",
    "            predicted_label = np.argmax(scores)\n",
    "            if predicted_label != true_label:\n",
    "                w[int(true_label)] += lr * x\n",
    "                w[predicted_label] -= lr * x\n",
    "            itr = itr +1\n",
    "\n",
    "            if itr>1224799:\n",
    "                jw = Jw(X, w[int(true_label)], w[predicted_label])\n",
    "                if jw<J_min:\n",
    "                    J_min = jw\n",
    "                    w_opt = w\n",
    "    return w, J_min, w_opt\n",
    "\n",
    "def Jw(X, wk, wl):\n",
    "    j=0\n",
    "    for i in range(X.shape[0]):\n",
    "        j = j + np.dot(wk,X[i].T) - np.dot(wl,X[i].T)\n",
    "    return -j\n",
    "\n",
    "def predict(X, w):\n",
    "    scores = np.dot(w, X.T)\n",
    "    return np.argmax(scores, axis=0)\n",
    "\n",
    "def accuracy(y_true, y_pred):\n",
    "    score = np.equal(y_true, y_pred)\n",
    "    return np.sum(score), np.mean(score)"
   ]
  },
  {
   "cell_type": "code",
   "execution_count": null,
   "metadata": {},
   "outputs": [],
   "source": [
    "std = StandardScaler()\n",
    "\n",
    "std.fit(x_train)\n",
    "\n",
    "x_train_normalized = std.transform(x_train)\n",
    "\n",
    "x_train_normalized_aug = np.hstack((np.ones((x_train_normalized.shape[0], 1)), x_train_normalized))\n",
    "\n",
    "w, J_min, w_opt = train(x_train_normalized_aug, y_train_enc)\n",
    "\n",
    "y_train_pred = predict(x_train_normalized_aug, w_opt)\n",
    "\n",
    "train_m_points, train_acc = accuracy(y_train_enc, y_train_pred)\n",
    "\n",
    "print(\"Train Data Accuracy \", train_acc*100, \"%\")\n",
    "\n",
    "x_test_normalized = std.transform(x_test)\n",
    "\n",
    "x_test_normalized_aug = np.hstack((np.ones((x_test_normalized.shape[0], 1)), x_test_normalized))\n",
    "\n",
    "y_test_pred = predict(x_test_normalized_aug, w_opt)\n",
    "\n",
    "test_m_points, test_acc = accuracy(y_test_enc, y_test_pred)\n",
    "\n",
    "print(\"Test Data Accuracy \", test_acc*100, \"%\")\n",
    "\n",
    "cm = confusion_matrix(y_test_enc, y_test_pred) \n",
    "disp = ConfusionMatrixDisplay(confusion_matrix=cm) \n",
    "disp.plot() \n",
    "plt.figure() \n",
    "plt.show()"
   ]
  },
  {
   "cell_type": "code",
   "execution_count": null,
   "metadata": {},
   "outputs": [],
   "source": [
    "for i in range(7):\n",
    "    print(\"Class\", i+1, \"Weight Vector: \" , w_opt[i])\n",
    "    print(\"Class\", i+1, \"Weight Magnitude: \", np.linalg.norm(w_opt[i]))\n",
    "    print()"
   ]
  },
  {
   "cell_type": "code",
   "execution_count": null,
   "metadata": {},
   "outputs": [],
   "source": [
    "train_mean_list = []\n",
    "test_mean_list = []\n",
    "w_dict = {0: 0, 1: 0, 2: 0, 3: 0, 4: 0, 5: 0, 6: 0}\n",
    "w_dict_list = {0: [], 1: [], 2: [], 3: [], 4: [], 5: [], 6: []}\n",
    "cm_list = []\n",
    "\n",
    "for i in range(10):\n",
    "    w, J_min, w_opt = train(x_train_normalized_aug, y_train_enc)\n",
    "    y_train_pred = predict(x_train_normalized_aug, w_opt)\n",
    "    train_m_points, train_acc = accuracy(y_train_enc, y_train_pred)\n",
    "    train_mean_list.append(train_acc)\n",
    "\n",
    "    y_test_pred = predict(x_test_normalized_aug, w_opt)\n",
    "    test_m_points, test_acc = accuracy(y_test_enc, y_test_pred)\n",
    "    test_mean_list.append(test_acc)\n",
    "\n",
    "    cm_list.append(confusion_matrix(y_test_enc, y_test_pred))\n",
    "\n",
    "    for i in range(7):\n",
    "        mag = np.linalg.norm(w_opt[i])\n",
    "        w_dict[i] += mag\n",
    "        w_dict_list[i].append(mag)"
   ]
  },
  {
   "cell_type": "code",
   "execution_count": null,
   "metadata": {},
   "outputs": [],
   "source": [
    "print(\"Mean of train data accuracy: \", np.mean(train_mean_list)*100, \"%\")\n",
    "print(\"Mean of test data accuracy: \", np.mean(test_mean_list)*100, \"%\")\n",
    "print(\"Standard deviation of train data accuracy: \", np.std(train_mean_list)*100, \"%\")\n",
    "print(\"Standard deviation of test data accuracy: \", np.std(test_mean_list)*100, \"%\")"
   ]
  },
  {
   "cell_type": "code",
   "execution_count": null,
   "metadata": {},
   "outputs": [],
   "source": [
    "for i in range(7):\n",
    "    print(\"Class \", i+1, \" Weight Magnitude Mean: \", w_dict[i]/10)\n",
    "    print(\"Class \", i+1, \" Weight Magnitude Standard Deviation: \", np.std(w_dict_list[i]))\n",
    "    print()"
   ]
  },
  {
   "cell_type": "code",
   "execution_count": null,
   "metadata": {},
   "outputs": [],
   "source": [
    "print(\"Confussion matrix mean: \")\n",
    "print(np.mean(cm_list, axis=0))"
   ]
  },
  {
   "cell_type": "code",
   "execution_count": null,
   "metadata": {},
   "outputs": [],
   "source": [
    "print(\"Confussion matrix standard deviation: \")\n",
    "print(np.std(cm_list, axis=0))"
   ]
  }
 ],
 "metadata": {
  "kernelspec": {
   "display_name": "ee559",
   "language": "python",
   "name": "python3"
  },
  "language_info": {
   "codemirror_mode": {
    "name": "ipython",
    "version": 3
   },
   "file_extension": ".py",
   "mimetype": "text/x-python",
   "name": "python",
   "nbconvert_exporter": "python",
   "pygments_lexer": "ipython3",
   "version": "3.9.15"
  },
  "orig_nbformat": 4,
  "vscode": {
   "interpreter": {
    "hash": "2eb6f81582a0ea607b0e242b259759510c2a452bfcbd8fa23b3937e27ee9350a"
   }
  }
 },
 "nbformat": 4,
 "nbformat_minor": 2
}
