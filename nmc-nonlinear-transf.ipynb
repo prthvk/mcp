{
 "cells": [
  {
   "attachments": {},
   "cell_type": "markdown",
   "metadata": {},
   "source": [
    "Question 4"
   ]
  },
  {
   "cell_type": "code",
   "execution_count": 32,
   "metadata": {},
   "outputs": [],
   "source": [
    "import numpy as np\n",
    "from scipy.special import comb\n",
    "import copy\n",
    "import matplotlib.pyplot as plt\n",
    "from utils.plotDecBoundaries import plotDecBoundaries"
   ]
  },
  {
   "cell_type": "code",
   "execution_count": 33,
   "metadata": {},
   "outputs": [],
   "source": [
    "def non_linear_trans_2(X):\n",
    "\n",
    "    D = X.shape[1]\n",
    "    K = comb(D + 2, 2) - 1\n",
    "\n",
    "    transformed_data = np.zeros((X.shape[0], int(K)))\n",
    "\n",
    "    for i in range(int(X.shape[0])):\n",
    "        index = 0\n",
    "        for j in range(D):\n",
    "            transformed_data[i][index] = X[i][j]\n",
    "            index += 1\n",
    "        for j in range(D):\n",
    "            for k in range(j, D):\n",
    "                transformed_data[i][index] = X[i][j] * X[i][k]\n",
    "                index += 1\n",
    "    return transformed_data\n",
    "\n",
    "def non_linear_trans_3(X):\n",
    "    d = 3\n",
    "    D = X.shape[1]\n",
    "    K = comb(D + 3, 3) - 1\n",
    "\n",
    "    transformed_data = np.zeros((X.shape[0], int(K)))\n",
    "\n",
    "    for i in range(X.shape[0]):\n",
    "        index = 0\n",
    "        for j in range(D):\n",
    "            transformed_data[i][index] = X[i][j]\n",
    "            index += 1\n",
    "        for j in range(D):\n",
    "            for k in range(j, D):\n",
    "                transformed_data[i][index] = X[i][j] * X[i][k]\n",
    "                index += 1\n",
    "                for l in range(k, D):\n",
    "                    transformed_data[i][index] = X[i][j] * X[i][k] * X[i][l]\n",
    "                    index += 1\n",
    "\n",
    "    return transformed_data\n",
    "\n",
    "def predictor(X, w):\n",
    "    clas = np.zeros(len(X))\n",
    "    for i in range(len(X)):\n",
    "        pred = np.dot(w[: , 1:], X[i].T)\n",
    "        if pred < 0:\n",
    "            clas[i] = 0\n",
    "        else:\n",
    "            clas[i] = 1\n",
    "    return clas\n",
    "\n",
    "def plotDecBoundaries_Nonlinear(feature, labels, w, nld):\n",
    "    fsize=(6,4)\n",
    "    legend_on = False\n",
    "\n",
    "    ## this function is from Prof. Chugg's PlotNonLinear.py script\n",
    "    ## https://github.com/keithchugg/ee559_spring2023/blob/main/hw_helpers/PlotNonlinear.py\n",
    "    '''\n",
    "    Plot the decision boundaries and data points for any binary classifiers\n",
    "    \n",
    "    feature: origianl2D feautre, N x 2 array:\n",
    "        N: number of data points\n",
    "        2: number of features \n",
    "    labels: class lables correspond to feature, N x 1 array: [0,0,1,1,0,0,...]\n",
    "        N: number of data points\n",
    "    legend_on: add the legend in the plot. potentially slower for datasets with large number of clases and data points\n",
    "    ----------------------------\n",
    "    You need to write the following two functions\n",
    "\n",
    "    non_linear_trans: your custom non-linear transforation function.\n",
    "        <feature_nonlinear> = non_linear_trans(<feature_original>), \n",
    "            Input: <feature_original>, Nx2 array, \n",
    "            Output: <feature_nonlinear>: Nx? array.\n",
    "        if no nonlinear transformation performs, then, \n",
    "        let non_linear_trans = lambda x:x, which just output your original feature\n",
    "    \n",
    "    predictor: your custom predictor.\n",
    "        <predictions> = predictor(<feature>)\n",
    "            Input: <feature> Nx? array.\n",
    "            Output: <predictions> binary labels, i.e., array ([0,1,0,0,1...])\n",
    "\n",
    "    If you don't want write custom functions, you can modify this plot function based on your need,\n",
    "    do non-linear transformation and class prediction inside this plot function.\n",
    "    ----------------------------\n",
    "    '''\n",
    "\n",
    "    labels = labels.astype(int)\n",
    "\n",
    "    # Set the feature range for ploting\n",
    "    max_x = np.ceil(max(feature[:, 0])) + 1\n",
    "    min_x = np.floor(min(feature[:, 0])) - 1\n",
    "    max_y = np.ceil(max(feature[:, 1])) + 1\n",
    "    min_y = np.floor(min(feature[:, 1])) - 1\n",
    "\n",
    "    xrange = (min_x, max_x)\n",
    "    yrange = (min_y, max_y)\n",
    "\n",
    "    # step size for how finely you want to visualize the decision boundary.\n",
    "    inc = 0.05\n",
    "\n",
    "    # generate grid coordinates. this will be the basis of the decision\n",
    "    # boundary visualization.\n",
    "    (x, y) = np.meshgrid(np.arange(xrange[0], xrange[1]+inc/100, inc), np.arange(yrange[0], yrange[1]+inc/100, inc))\n",
    "\n",
    "    # size of the (x, y) image, which will also be the size of the\n",
    "    # decision boundary image that is used as the plot background.\n",
    "    image_size = x.shape\n",
    "    xy = np.hstack( (x.reshape(x.shape[0]*x.shape[1], 1, order='F'), y.reshape(y.shape[0]*y.shape[1], 1, order='F')) ) # make (x,y) pairs as a bunch of row vectors.\n",
    "    \n",
    "    '''\n",
    "    You should write the custom functions, non_linear_trans and predictor\n",
    "    '''\n",
    "    # apply non-linear transformation to all points in the map (not only data points)\n",
    "    if nld == 2:\n",
    "        xy = non_linear_trans_2(xy)\n",
    "    if nld == 3:\n",
    "        xy = non_linear_trans_3(xy)\n",
    "    # predict the class of all points in the map \n",
    "    pred_label = predictor(xy, w)\n",
    "\n",
    "    # reshape the idx (which contains the class label) into an image.\n",
    "    decisionmap = pred_label.reshape(image_size, order='F')\n",
    "\n",
    "    # documemtation: https://matplotlib.org/stable/api/_as_gen/matplotlib.pyplot.plot.html\n",
    "    symbols_ar = np.array(['rx', 'bo', 'ms', 'cd','gp','y*','kx','gP','r+','bh'])\n",
    "    #show the image, give each coordinate a color according to its class label\n",
    "    plt.figure(figsize=fsize)\n",
    "\n",
    "    plt.imshow(decisionmap, extent=[xrange[0], xrange[1], yrange[0], yrange[1]], origin='lower', aspect='auto')\n",
    "\n",
    "    # plot the class data.\n",
    "    plot_index = 0\n",
    "    class_list = []\n",
    "    class_list_name = [] #for legend\n",
    "    for cur_label in np.unique(labels):\n",
    "        # print(cur_label,plot_index,np.sum(label_train == cur_label))\n",
    "        d1, = plt.plot(feature[labels == cur_label, 0],feature[labels == cur_label, 1], symbols_ar[plot_index])\n",
    "\n",
    "        if legend_on:\n",
    "            class_list.append(d1)\n",
    "            class_list_name.append('Class '+str(plot_index))\n",
    "            l = plt.legend(class_list,class_list_name, loc=2)\n",
    "            plt.gca().add_artist(l)\n",
    "       \n",
    "        plot_index = plot_index + 1\n",
    "\n",
    "    plt.show()"
   ]
  },
  {
   "cell_type": "code",
   "execution_count": 34,
   "metadata": {},
   "outputs": [],
   "source": [
    "def gen_nonlinear_2(X):\n",
    "\n",
    "    D = X.shape[1]\n",
    "    K = comb(D + 2, 2) - 1\n",
    "\n",
    "    transformed_data = np.zeros((X.shape[0], int(K)))\n",
    "\n",
    "    for i in range(int(X.shape[0])):\n",
    "        index = 0\n",
    "        for j in range(D):\n",
    "            transformed_data[i][index] = X[i][j]\n",
    "            index += 1\n",
    "        for j in range(D):\n",
    "            for k in range(j, D):\n",
    "                transformed_data[i][index] = X[i][j] * X[i][k]\n",
    "                index += 1\n",
    "    return transformed_data\n",
    "\n",
    "def gen_nonlinear_3(X):\n",
    "    d = 3\n",
    "    D = X.shape[1]\n",
    "    K = comb(D + 3, 3) - 1\n",
    "\n",
    "    transformed_data = np.zeros((X.shape[0], int(K)))\n",
    "\n",
    "    for i in range(X.shape[0]):\n",
    "        index = 0\n",
    "        for j in range(D):\n",
    "            transformed_data[i][index] = X[i][j]\n",
    "            index += 1\n",
    "        for j in range(D):\n",
    "            for k in range(j, D):\n",
    "                transformed_data[i][index] = X[i][j] * X[i][k]\n",
    "                index += 1\n",
    "                for l in range(k, D):\n",
    "                    transformed_data[i][index] = X[i][j] * X[i][k] * X[i][l]\n",
    "                    index += 1\n",
    "\n",
    "    return transformed_data\n",
    "\n",
    "def train(X, y, epochs=100, lr=0.1):\n",
    "    d = X.shape[1]\n",
    "    w = np.ones((1, d))\n",
    "    w_opt = np.ones((1, d))\n",
    "    num_samples = X.shape[0]\n",
    "    itr = 0\n",
    "    J_min = 100000000\n",
    "    reflected_data = copy.deepcopy(X)\n",
    "\n",
    "    for j in range(len(X)):\n",
    "        if y[j] == 2.0:\n",
    "            reflected_data[j] *= (-1)\n",
    "    \n",
    "    for epoch in range(epochs):\n",
    "        count = 0\n",
    "        temp = np.c_[X,y]\n",
    "        np.random.shuffle(temp)\n",
    "        X = temp[:, :17]\n",
    "        y = temp[:, -1]\n",
    "        for i in range(num_samples):\n",
    "            z = np.dot(w, reflected_data[i].T)\n",
    "            if z <= 0:\n",
    "                w += 1*reflected_data[i]\n",
    "                count = 0\n",
    "            else:\n",
    "                count = count + 1\n",
    "            jw = Jw(reflected_data, w)\n",
    "            if jw < J_min:\n",
    "                J_min = jw\n",
    "                w_opt = w\n",
    "        if count == 100:\n",
    "            break\n",
    "    return w, J_min, w_opt\n",
    "\n",
    "def Jw(X, w):\n",
    "    j = 0\n",
    "    for i in range(X.shape[0]):\n",
    "        if np.dot(w, X[i].T) <= 0:\n",
    "            j -= np.dot(w, X[i].T)\n",
    "    return j\n",
    "\n",
    "def classify(X, w):\n",
    "    clas = np.zeros(len(X))\n",
    "    for i in range(len(X)):\n",
    "        pred = np.dot(w, X[i].T)\n",
    "        if pred < 0:\n",
    "            clas[i] = 2\n",
    "        else:\n",
    "            clas[i] = 1\n",
    "    return clas\n",
    "\n",
    "def error(tpl,tl):\n",
    "    err_count = 0\n",
    "    for i in range(len(tpl)):\n",
    "        if (int(tpl[i]) != int(tl[i])):\n",
    "            err_count = err_count+1\n",
    "    err_rate = (1-(err_count/len(tpl)))*100\n",
    "    return err_rate\n",
    "\n",
    "def plot_dec(data, label, w):\n",
    "    x_min = min(data[:, 1])\n",
    "    x_max = max(data[:, 1])\n",
    "    x = np.linspace(x_min, x_max)\n",
    "    y = -(w[0]+w[1]*x)/w[2]\n",
    "\n",
    "    plt.plot(x, y, label='Decision Boundary')\n",
    "    plt.fill_between(x, y, 4, color='blue', alpha=.5)\n",
    "    plt.scatter(data[label == 1, 1], data[label == 1, 2],\n",
    "                color='red', label='Class 1')\n",
    "    plt.scatter(data[label == 2, 1], data[label == 2, 2],\n",
    "                color='blue', label='Class 2')\n",
    "    plt.legend()\n",
    "    plt.show()"
   ]
  },
  {
   "cell_type": "code",
   "execution_count": 35,
   "metadata": {},
   "outputs": [],
   "source": [
    "train_data = np.genfromtxt(\"dataset1_train.csv\", delimiter=',')\n",
    "train_data_points = np.asarray(train_data[:,:2])\n",
    "train_labels = train_data[:, 2]\n",
    "\n",
    "test_data = np.genfromtxt(\"dataset1_test.csv\", delimiter=',')\n",
    "test_data_points = np.asarray(test_data[:,:2])\n",
    "test_labels = test_data[:, 2]"
   ]
  },
  {
   "cell_type": "code",
   "execution_count": 36,
   "metadata": {},
   "outputs": [
    {
     "name": "stdout",
     "output_type": "stream",
     "text": [
      "Train data classification accuracy with linear data -  100.0 %\n",
      "Test data classification accuracy with linear data -  97.0 %\n"
     ]
    }
   ],
   "source": [
    "train_data_aug = np.hstack((np.ones((train_data_points.shape[0], 1)), train_data_points))\n",
    "w, J_min, w_opt = train(train_data_aug, train_labels)\n",
    "train_pred_labels = classify(train_data_aug, w_opt)\n",
    "print(\"Train data classification accuracy with linear data - \", error(train_pred_labels,train_labels), \"%\")\n",
    "plotDecBoundary(train_data_aug,train_pred_labels,w_opt.T)\n",
    "\n",
    "test_data_aug = np.hstack((np.ones((test_data_points.shape[0], 1)), test_data_points))\n",
    "test_pred_labels = classify(test_data_aug, w_opt)\n",
    "print(\"Test data classification accuracy with linear data - \", error(test_pred_labels,test_labels), \"%\")\n",
    "plotDecBoundary(test_data_aug,test_pred_labels,w_opt.T)"
   ]
  },
  {
   "cell_type": "code",
   "execution_count": 37,
   "metadata": {},
   "outputs": [
    {
     "name": "stdout",
     "output_type": "stream",
     "text": [
      "Mean of train data accuracy:  91.0 %\n",
      "Mean of test data accuracy:  84.0 %\n",
      "Standard Deviation of train data accuracy:  0.0 %\n",
      "Standard Deviation of test data accuracy:  0.0 %\n"
     ]
    }
   ],
   "source": [
    "train_mean_list = []\n",
    "test_mean_list = []\n",
    "\n",
    "for i in range(10):\n",
    "    w, J_min, w_opt = train(train_data_points, train_labels)\n",
    "    train_pred_labels = classify(train_data_points, w_opt)\n",
    "    train_acc = error(train_pred_labels,train_labels)\n",
    "    train_mean_list.append(train_acc)\n",
    "\n",
    "    test_pred_labels = classify(test_data_points, w_opt)\n",
    "    test_acc = error(test_pred_labels,test_labels)\n",
    "    test_mean_list.append(test_acc)\n",
    "\n",
    "print(\"Mean of train data accuracy: \", np.mean(train_mean_list), \"%\")\n",
    "print(\"Mean of test data accuracy: \", np.mean(test_mean_list), \"%\")\n",
    "\n",
    "print(\"Standard Deviation of train data accuracy: \", np.std(train_mean_list), \"%\")\n",
    "print(\"Standard Deviation of test data accuracy: \", np.std(test_mean_list), \"%\")"
   ]
  },
  {
   "cell_type": "code",
   "execution_count": 38,
   "metadata": {},
   "outputs": [
    {
     "name": "stdout",
     "output_type": "stream",
     "text": [
      "Train data classification accuracy with quadratic transformation -  100.0 %\n"
     ]
    },
    {
     "data": {
      "image/png": "[encoded data removed]",
      "text/plain": [
       "<Figure size 600x400 with 1 Axes>"
      ]
     },
     "metadata": {},
     "output_type": "display_data"
    },
    {
     "name": "stdout",
     "output_type": "stream",
     "text": [
      "Test data classification accuracy with quadratic transformation -  94.0 %\n"
     ]
    },
    {
     "data": {
      "image/png": "[encoded data removed]",
      "text/plain": [
       "<Figure size 600x400 with 1 Axes>"
      ]
     },
     "metadata": {},
     "output_type": "display_data"
    }
   ],
   "source": [
    "train_nl_data_points = gen_nonlinear_2(train_data_points)\n",
    "train_nl_aug = np.hstack((np.ones((train_nl_data_points.shape[0], 1)), train_nl_data_points))\n",
    "\n",
    "w, J_min, w_opt = train(train_nl_aug, train_labels)\n",
    "train_pred_labels = classify(train_nl_aug, w_opt)\n",
    "print(\"Train data classification accuracy with quadratic transformation - \", error(train_pred_labels,train_labels), \"%\")\n",
    "\n",
    "train_lables_t = copy.deepcopy(train_labels)\n",
    "for i in range(train_labels.shape[0]):\n",
    "    if(train_labels[i] == 2.0):\n",
    "        train_lables_t[i] = 0\n",
    "\n",
    "train_pred_lables_t = copy.deepcopy(train_pred_labels)\n",
    "for i in range(train_pred_labels.shape[0]):\n",
    "    if(train_pred_labels[i] == 2.0):\n",
    "        train_pred_lables_t[i] = 0\n",
    "\n",
    "plotDecBoundaries_Nonlinear(train_data_points, train_lables_t, w_opt, 2)\n",
    "\n",
    "test_nl_data_points = gen_nonlinear_2(test_data_points)\n",
    "test_nl_aug = np.hstack((np.ones((test_nl_data_points.shape[0], 1)), test_nl_data_points))\n",
    "\n",
    "test_pred_labels = classify(test_nl_aug, w_opt)\n",
    "print(\"Test data classification accuracy with quadratic transformation - \", error(test_pred_labels,test_labels), \"%\")\n",
    "\n",
    "test_lables_t = copy.deepcopy(test_labels)\n",
    "for i in range(test_labels.shape[0]):\n",
    "    if(test_labels[i] == 2.0):\n",
    "        test_lables_t[i] = 0\n",
    "\n",
    "test_pred_lables_t = copy.deepcopy(test_pred_labels)\n",
    "for i in range(test_pred_labels.shape[0]):\n",
    "    if(test_pred_labels[i] == 2.0):\n",
    "        test_pred_lables_t[i] = 0\n",
    "\n",
    "plotDecBoundaries_Nonlinear(test_data_points, test_lables_t, w_opt, 2)"
   ]
  },
  {
   "cell_type": "code",
   "execution_count": 39,
   "metadata": {},
   "outputs": [
    {
     "name": "stdout",
     "output_type": "stream",
     "text": [
      "Mean of train data accuracy:  100.0 %\n",
      "Mean of test data accuracy:  94.0 %\n",
      "Standard Deviation of train data accuracy:  0.0 %\n",
      "Standard Deviation of test data accuracy:  0.0 %\n"
     ]
    }
   ],
   "source": [
    "train_mean_list = []\n",
    "test_mean_list = []\n",
    "\n",
    "for i in range(10):\n",
    "    w, J_min, w_opt = train(train_nl_aug, train_labels)\n",
    "    train_pred_labels = classify(train_nl_aug, w_opt)\n",
    "    train_acc = error(train_pred_labels,train_labels)\n",
    "    train_mean_list.append(train_acc)\n",
    "\n",
    "    test_pred_labels = classify(test_nl_aug, w_opt)\n",
    "    test_acc = error(test_pred_labels,test_labels)\n",
    "    test_mean_list.append(test_acc)\n",
    "\n",
    "print(\"Mean of train data accuracy: \", np.mean(train_mean_list), \"%\")\n",
    "print(\"Mean of test data accuracy: \", np.mean(test_mean_list), \"%\")\n",
    "\n",
    "print(\"Standard Deviation of train data accuracy: \", np.std(train_mean_list), \"%\")\n",
    "print(\"Standard Deviation of test data accuracy: \", np.std(test_mean_list), \"%\")"
   ]
  },
  {
   "cell_type": "code",
   "execution_count": 40,
   "metadata": {},
   "outputs": [
    {
     "name": "stdout",
     "output_type": "stream",
     "text": [
      "Train data classification accuracy with cubic transformation -  100.0 %\n"
     ]
    },
    {
     "data": {
      "image/png": "[encoded data removed]",
      "text/plain": [
       "<Figure size 600x400 with 1 Axes>"
      ]
     },
     "metadata": {},
     "output_type": "display_data"
    },
    {
     "name": "stdout",
     "output_type": "stream",
     "text": [
      "Test data classification accuracy with cubic transformation -  94.0 %\n"
     ]
    },
    {
     "data": {
      "image/png": "[encoded data removed]",
      "text/plain": [
       "<Figure size 600x400 with 1 Axes>"
      ]
     },
     "metadata": {},
     "output_type": "display_data"
    }
   ],
   "source": [
    "train_nl_data_points = gen_nonlinear_3(train_data_points)\n",
    "train_nl_aug = np.hstack((np.ones((train_nl_data_points.shape[0], 1)), train_nl_data_points))\n",
    "\n",
    "w, J_min, w_opt = train(train_nl_aug, train_labels)\n",
    "train_pred_labels = classify(train_nl_aug, w_opt)\n",
    "print(\"Train data classification accuracy with cubic transformation - \", error(train_pred_labels,train_labels), \"%\")\n",
    "\n",
    "train_lables_t = copy.deepcopy(train_labels)\n",
    "for i in range(train_labels.shape[0]):\n",
    "    if(train_labels[i] == 2.0):\n",
    "        train_lables_t[i] = 0\n",
    "\n",
    "train_pred_lables_t = copy.deepcopy(train_pred_labels)\n",
    "for i in range(train_pred_labels.shape[0]):\n",
    "    if(train_pred_labels[i] == 2.0):\n",
    "        train_pred_lables_t[i] = 0\n",
    "\n",
    "plotDecBoundaries_Nonlinear(train_data_points, train_lables_t, w_opt, 3)\n",
    "\n",
    "test_nl_data_points = gen_nonlinear_3(test_data_points)\n",
    "test_nl_aug = np.hstack((np.ones((test_nl_data_points.shape[0], 1)), test_nl_data_points))\n",
    "\n",
    "test_pred_labels = classify(test_nl_aug, w_opt)\n",
    "print(\"Test data classification accuracy with cubic transformation - \", error(test_pred_labels,test_labels), \"%\")\n",
    "\n",
    "test_lables_t = copy.deepcopy(test_labels)\n",
    "for i in range(test_labels.shape[0]):\n",
    "    if(test_labels[i] == 2.0):\n",
    "        test_lables_t[i] = 0\n",
    "\n",
    "test_pred_lables_t = copy.deepcopy(test_pred_labels)\n",
    "for i in range(test_pred_labels.shape[0]):\n",
    "    if(test_pred_labels[i] == 2.0):\n",
    "        test_pred_lables_t[i] = 0\n",
    "\n",
    "plotDecBoundaries_Nonlinear(test_data_points, test_lables_t, w_opt, 3)"
   ]
  },
  {
   "cell_type": "code",
   "execution_count": 41,
   "metadata": {},
   "outputs": [
    {
     "name": "stdout",
     "output_type": "stream",
     "text": [
      "Mean of train data accuracy:  100.0 %\n",
      "Mean of test data accuracy:  94.0 %\n",
      "Standard Deviation of train data accuracy:  0.0 %\n",
      "Standard Deviation of test data accuracy:  0.0 %\n"
     ]
    }
   ],
   "source": [
    "train_mean_list = []\n",
    "test_mean_list = []\n",
    "\n",
    "for i in range(10):\n",
    "    w, J_min, w_opt = train(train_nl_aug, train_labels)\n",
    "    train_pred_labels = classify(train_nl_aug, w_opt)\n",
    "    train_acc = error(train_pred_labels,train_labels)\n",
    "    train_mean_list.append(train_acc)\n",
    "\n",
    "    test_pred_labels = classify(test_nl_aug, w_opt)\n",
    "    test_acc = error(test_pred_labels,test_labels)\n",
    "    test_mean_list.append(test_acc)\n",
    "\n",
    "print(\"Mean of train data accuracy: \", np.mean(train_mean_list), \"%\")\n",
    "print(\"Mean of test data accuracy: \", np.mean(test_mean_list), \"%\")\n",
    "\n",
    "print(\"Standard Deviation of train data accuracy: \", np.std(train_mean_list), \"%\")\n",
    "print(\"Standard Deviation of test data accuracy: \", np.std(test_mean_list), \"%\")"
   ]
  }
 ],
 "metadata": {
  "kernelspec": {
   "display_name": "ee559",
   "language": "python",
   "name": "python3"
  },
  "language_info": {
   "codemirror_mode": {
    "name": "ipython",
    "version": 3
   },
   "file_extension": ".py",
   "mimetype": "text/x-python",
   "name": "python",
   "nbconvert_exporter": "python",
   "pygments_lexer": "ipython3",
   "version": "3.9.15"
  },
  "orig_nbformat": 4,
  "vscode": {
   "interpreter": {
    "hash": "2eb6f81582a0ea607b0e242b259759510c2a452bfcbd8fa23b3937e27ee9350a"
   }
  }
 },
 "nbformat": 4,
 "nbformat_minor": 2
}
